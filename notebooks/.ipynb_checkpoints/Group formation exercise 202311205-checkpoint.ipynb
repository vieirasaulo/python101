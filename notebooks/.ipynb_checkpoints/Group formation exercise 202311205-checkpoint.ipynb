{
 "cells": [
  {
   "cell_type": "code",
   "execution_count": 2,
   "id": "dd5d3ef6",
   "metadata": {},
   "outputs": [],
   "source": [
    "import os\n",
    "import pathlib\n",
    "from pathlib import Path\n",
    "import random\n",
    "import math"
   ]
  },
  {
   "cell_type": "markdown",
   "id": "b44ebeec",
   "metadata": {},
   "source": [
    "# Steps\n",
    "\n",
    "Define the variables or parameters\n",
    "\n",
    "We know we have some students that are Techno-Anthropologists and some who are of Different Backgrounds in the class 2023. \n",
    "\n",
    "We don't know how many students there are in total - and we also don't know their background. So we want to ask for the plug in from the user. \n",
    "\n",
    "We want somewhat equally distributed groups both in relation to each group but also within the group. \n",
    "\n",
    "We want at least 1 TechAnth in each group. But depending on the total number of students, we prefer at least 2 TechAnths.\n",
    "\n",
    "We also want at least one Foreign Student in each group as the students are studying in English and we want to make sure that this is spoken during group work as well. \n",
    "\n",
    "We will consider three gender types: 1. Non-biary, 2. Cisman, 3. Ciswoman"
   ]
  },
  {
   "cell_type": "code",
   "execution_count": 3,
   "id": "f9d02494",
   "metadata": {},
   "outputs": [],
   "source": [
    "ns = 40 # total number of students\n",
    "gm = 5 # number of students per group. I want five group members in each.\n",
    "ng = ns / gm # total number of groups which is calcuted based on ns being 40\n",
    "nb = 5 # 1. Energineering, 2. SocialSci, 3. HealthCare 4. TechnAnths 5. Other (anything that doesn't fit into the rest)\n",
    "nn = 2 # number of nationalities is 2 - Foreign and Danish\n",
    "ngend = 3 # number of genders is 3"
   ]
  },
  {
   "cell_type": "code",
   "execution_count": 4,
   "id": "543db2c0",
   "metadata": {},
   "outputs": [],
   "source": [
    "'''All of the students are defined in the range(ns) now. Therefore, you do not need to use range anymore.\n",
    "Students are IDs - not defined by backgrounds yet.'''\n",
    "students = range(ns)\n",
    "backgrounds = range(nb)\n",
    "nationalities = range(nn)\n",
    "genders = range(ngend)"
   ]
  },
  {
   "cell_type": "markdown",
   "id": "1315a9b8",
   "metadata": {},
   "source": [
    "Four variables that are iterables (iterables are when you can loop over them - iterative process)"
   ]
  },
  {
   "cell_type": "code",
   "execution_count": 5,
   "id": "c95c80fb",
   "metadata": {},
   "outputs": [
    {
     "name": "stdout",
     "output_type": "stream",
     "text": [
      "0\n",
      "1\n",
      "2\n",
      "3\n",
      "4\n",
      "5\n",
      "6\n",
      "7\n",
      "8\n",
      "9\n",
      "10\n",
      "11\n",
      "12\n",
      "13\n",
      "14\n",
      "15\n",
      "16\n",
      "17\n",
      "18\n",
      "19\n",
      "20\n",
      "21\n",
      "22\n",
      "23\n",
      "24\n",
      "25\n",
      "26\n",
      "27\n",
      "28\n",
      "29\n",
      "30\n",
      "31\n",
      "32\n",
      "33\n",
      "34\n",
      "35\n",
      "36\n",
      "37\n",
      "38\n",
      "39\n"
     ]
    }
   ],
   "source": [
    "for i in students:\n",
    "    print(i)\n"
   ]
  },
  {
   "cell_type": "code",
   "execution_count": 6,
   "id": "0e81258c",
   "metadata": {},
   "outputs": [
    {
     "data": {
      "text/plain": [
       "(40, 5)"
      ]
     },
     "execution_count": 6,
     "metadata": {},
     "output_type": "execute_result"
    }
   ],
   "source": [
    "len(students), len(backgrounds)"
   ]
  },
  {
   "cell_type": "code",
   "execution_count": 7,
   "id": "e9246998",
   "metadata": {},
   "outputs": [
    {
     "name": "stdout",
     "output_type": "stream",
     "text": [
      "0, 2\n",
      "1, 0\n",
      "2, 4\n",
      "3, 4\n",
      "4, 1\n",
      "5, 1\n",
      "6, 0\n",
      "7, 3\n",
      "8, 2\n",
      "9, 3\n",
      "10, 3\n",
      "11, 4\n",
      "12, 1\n",
      "13, 4\n",
      "14, 1\n",
      "15, 2\n",
      "16, 0\n",
      "17, 3\n",
      "18, 1\n",
      "19, 2\n",
      "20, 2\n",
      "21, 2\n",
      "22, 0\n",
      "23, 0\n",
      "24, 0\n",
      "25, 2\n",
      "26, 1\n",
      "27, 2\n",
      "28, 3\n",
      "29, 2\n",
      "30, 4\n",
      "31, 0\n",
      "32, 1\n",
      "33, 4\n",
      "34, 4\n",
      "35, 0\n",
      "36, 3\n",
      "37, 2\n",
      "38, 0\n",
      "39, 1\n"
     ]
    }
   ],
   "source": [
    "student_backgrounds = list()\n",
    "for student in students:\n",
    "    student_background = random.choice(backgrounds)\n",
    "    student_backgrounds.append(student_background)\n",
    "    '''now the variable student_background is defined where each student ID is assigned a background.\n",
    "    This will, however, not show up until we print that function.'''\n",
    "    print(student, student_background, sep=', ') #sep= ', ' means you separate the two lines that will appear"
   ]
  },
  {
   "cell_type": "code",
   "execution_count": 8,
   "id": "66294de3",
   "metadata": {},
   "outputs": [
    {
     "name": "stdout",
     "output_type": "stream",
     "text": [
      "[2, 0, 4, 4, 1, 1, 0, 3, 2, 3, 3, 4, 1, 4, 1, 2, 0, 3, 1, 2, 2, 2, 0, 0, 0, 2, 1, 2, 3, 2, 4, 0, 1, 4, 4, 0, 3, 2, 0, 1]\n"
     ]
    }
   ],
   "source": [
    "print(student_backgrounds)"
   ]
  },
  {
   "cell_type": "code",
   "execution_count": 9,
   "id": "339b4e66",
   "metadata": {},
   "outputs": [
    {
     "data": {
      "text/plain": [
       "['__call__',\n",
       " '__class__',\n",
       " '__delattr__',\n",
       " '__dir__',\n",
       " '__doc__',\n",
       " '__eq__',\n",
       " '__format__',\n",
       " '__func__',\n",
       " '__ge__',\n",
       " '__get__',\n",
       " '__getattribute__',\n",
       " '__gt__',\n",
       " '__hash__',\n",
       " '__init__',\n",
       " '__init_subclass__',\n",
       " '__le__',\n",
       " '__lt__',\n",
       " '__ne__',\n",
       " '__new__',\n",
       " '__reduce__',\n",
       " '__reduce_ex__',\n",
       " '__repr__',\n",
       " '__self__',\n",
       " '__setattr__',\n",
       " '__sizeof__',\n",
       " '__str__',\n",
       " '__subclasshook__']"
      ]
     },
     "execution_count": 9,
     "metadata": {},
     "output_type": "execute_result"
    }
   ],
   "source": [
    "dir(random.seed)"
   ]
  },
  {
   "cell_type": "code",
   "execution_count": 10,
   "id": "3b3f6e41",
   "metadata": {},
   "outputs": [],
   "source": [
    "random.seed(36)"
   ]
  },
  {
   "cell_type": "code",
   "execution_count": 11,
   "id": "ec1ef72e",
   "metadata": {},
   "outputs": [
    {
     "data": {
      "text/plain": [
       "[(0, 1, 2, 0),\n",
       " (1, 2, 2, 1),\n",
       " (2, 4, 0, 0),\n",
       " (3, 3, 1, 0),\n",
       " (4, 1, 2, 1),\n",
       " (5, 4, 2, 1),\n",
       " (6, 3, 2, 0),\n",
       " (7, 1, 2, 0),\n",
       " (8, 4, 1, 0),\n",
       " (9, 0, 0, 0),\n",
       " (10, 2, 0, 1),\n",
       " (11, 3, 2, 1),\n",
       " (12, 3, 1, 1),\n",
       " (13, 1, 1, 0),\n",
       " (14, 0, 0, 1),\n",
       " (15, 1, 1, 1),\n",
       " (16, 2, 1, 1),\n",
       " (17, 4, 1, 1),\n",
       " (18, 4, 0, 1),\n",
       " (19, 0, 1, 0),\n",
       " (20, 2, 2, 0),\n",
       " (21, 1, 2, 1),\n",
       " (22, 2, 0, 0),\n",
       " (23, 3, 2, 1),\n",
       " (24, 0, 1, 0),\n",
       " (25, 3, 0, 0),\n",
       " (26, 2, 1, 1),\n",
       " (27, 0, 0, 0),\n",
       " (28, 3, 2, 1),\n",
       " (29, 4, 1, 0),\n",
       " (30, 0, 1, 0),\n",
       " (31, 0, 0, 0),\n",
       " (32, 1, 1, 1),\n",
       " (33, 4, 1, 0),\n",
       " (34, 0, 1, 1),\n",
       " (35, 2, 0, 1),\n",
       " (36, 3, 1, 1),\n",
       " (37, 4, 2, 0),\n",
       " (38, 4, 2, 1),\n",
       " (39, 3, 2, 0)]"
      ]
     },
     "execution_count": 11,
     "metadata": {},
     "output_type": "execute_result"
    }
   ],
   "source": [
    "# First store the above variables (like the whole list)\n",
    "# How do I store? I use the variable \"dataset\"\n",
    "\n",
    "# print(student, student_background, student_gender, student_nationality, sep=', ')\n",
    "# sep= ', ' means you separate the two lines that will appear\n",
    "\n",
    "random.seed(3)\n",
    "\n",
    "'''This 'random.seed(n)' means that the list will not change, i.e.\n",
    "The list/overview will stay the same throughout and not randomise every time.'''\n",
    "\n",
    "student_backgrounds = list()\n",
    "student_genders = list()\n",
    "student_nationalities = list()\n",
    "for student in students:\n",
    "    student_background = random.choice(backgrounds)\n",
    "    '''now the variable student_background is defined where each student ID is assigned a background.\n",
    "    This will, however, not show up until we print that function.'''\n",
    "    student_backgrounds.append(student_background)\n",
    "    student_gender = random.choice(genders)\n",
    "    student_genders.append(student_gender)\n",
    "    student_nationality = random.choice(nationalities)\n",
    "    student_nationalities.append(student_nationality)\n",
    "dataset = list(zip(students, student_backgrounds, student_genders, student_nationalities))\n",
    "\n",
    "dataset"
   ]
  },
  {
   "cell_type": "markdown",
   "id": "d0dc6b32",
   "metadata": {},
   "source": [
    "# Now to the group assigning. "
   ]
  },
  {
   "cell_type": "code",
   "execution_count": 12,
   "id": "361d12dc",
   "metadata": {},
   "outputs": [],
   "source": [
    "# now I want to make the data set a function using \"def\""
   ]
  },
  {
   "cell_type": "code",
   "execution_count": 13,
   "id": "2b73bc80",
   "metadata": {},
   "outputs": [],
   "source": [
    "def create_dataset(\n",
    "    ns: int,\n",
    "    nb: int,\n",
    "    nn: int,\n",
    "    ngend: int,\n",
    "    random_seed: int = 36\n",
    ") -> list:\n",
    "    \"\"\"\n",
    "    Function to create a dataset of students.\n",
    "\n",
    "    Args:\n",
    "    --------\n",
    "    ns(int): number of students\n",
    "    nb(int): number of backgrounds\n",
    "    nn(int): number of nationalities\n",
    "    ng(int): number of genders.\n",
    "    random_seed(int): I have to have random.seed because otherwise the dataset will change everytime. Default = 36.\n",
    "\n",
    "    Returns:\n",
    "    ------\n",
    "    list -> dataset of studens, columns are -> student id, background, nationality and genders\n",
    "    \"\"\"\n",
    "\n",
    "    '''All of the students are defined in the range(ns) now. Therefore, you do not need to use range anymore.\n",
    "    Students are IDs - not defined by backgrounds yet.'''\n",
    "\n",
    "    random.seed(random_seed)\n",
    "\n",
    "    students = range(ns)\n",
    "    backgrounds = range(nb)\n",
    "    nationalities = range(nn)\n",
    "    genders = range(ngend)\n",
    "\n",
    "    # print(students)\n",
    "\n",
    "    student_backgrounds = list()\n",
    "    student_genders = list()\n",
    "    student_nationalities = list()\n",
    "    for student in students:\n",
    "        student_background = random.choice(backgrounds)\n",
    "        '''now the variable student_background is defined where each student ID is assigned a background.\n",
    "        This will, however, not show up until we print that function.'''\n",
    "        student_backgrounds.append(student_background)\n",
    "        student_gender = random.choice(genders)\n",
    "        student_genders.append(student_gender)\n",
    "        student_nationality = random.choice(nationalities)\n",
    "        student_nationalities.append(student_nationality)\n",
    "\n",
    "    dataset = list(zip(students, student_backgrounds, student_nationalities, student_genders))\n",
    "\n",
    "    return dataset"
   ]
  },
  {
   "cell_type": "code",
   "execution_count": 14,
   "id": "5b2b1f14",
   "metadata": {},
   "outputs": [
    {
     "data": {
      "text/plain": [
       "[(0, 2, 0, 0),\n",
       " (1, 2, 0, 0),\n",
       " (2, 4, 0, 2),\n",
       " (3, 1, 1, 1),\n",
       " (4, 2, 1, 2),\n",
       " (5, 4, 1, 0),\n",
       " (6, 3, 1, 1),\n",
       " (7, 3, 1, 0),\n",
       " (8, 1, 1, 0),\n",
       " (9, 1, 1, 2),\n",
       " (10, 1, 1, 1),\n",
       " (11, 4, 0, 0),\n",
       " (12, 4, 1, 1),\n",
       " (13, 1, 1, 0),\n",
       " (14, 2, 1, 0),\n",
       " (15, 2, 0, 2),\n",
       " (16, 1, 1, 2),\n",
       " (17, 4, 1, 1),\n",
       " (18, 0, 1, 0),\n",
       " (19, 1, 0, 2),\n",
       " (20, 1, 0, 0),\n",
       " (21, 2, 0, 1),\n",
       " (22, 4, 1, 1),\n",
       " (23, 3, 1, 0),\n",
       " (24, 0, 1, 0),\n",
       " (25, 1, 1, 0),\n",
       " (26, 1, 0, 0),\n",
       " (27, 4, 0, 2),\n",
       " (28, 3, 1, 1),\n",
       " (29, 2, 1, 0),\n",
       " (30, 4, 1, 0),\n",
       " (31, 0, 0, 1),\n",
       " (32, 3, 0, 2),\n",
       " (33, 2, 1, 1),\n",
       " (34, 1, 1, 1),\n",
       " (35, 1, 1, 0),\n",
       " (36, 3, 0, 1),\n",
       " (37, 1, 0, 0),\n",
       " (38, 3, 1, 2),\n",
       " (39, 2, 1, 2)]"
      ]
     },
     "execution_count": 14,
     "metadata": {},
     "output_type": "execute_result"
    }
   ],
   "source": [
    "dataset = create_dataset(ns=40, nb=5, nn=2, ngend=3)\n",
    "dataset"
   ]
  },
  {
   "cell_type": "markdown",
   "id": "9849a961",
   "metadata": {},
   "source": [
    "Conditions for the group formation: \n",
    "Depending on the total of number of students, we want to aim for in each group at least \n",
    " \n",
    "1. One student with a Techno-Anthropology background. \n",
    "2. One student with a Foreign background (non-Danish) so that the entire groups has to speak English\n",
    "3. Fairly normally distrbuted gender-wise"
   ]
  },
  {
   "cell_type": "markdown",
   "id": "2afe6c38-7858-49b6-8261-3a8d5920fbb3",
   "metadata": {},
   "source": [
    "Performance of built-in data structures in Python (**not completely sure**): \n",
    "\n",
    "set > dictionary > tuple > list"
   ]
  },
  {
   "cell_type": "code",
   "execution_count": 15,
   "id": "34de2455-cacd-48f8-b93f-60fc9eb3136e",
   "metadata": {},
   "outputs": [],
   "source": [
    "backgrounds = {\n",
    "    0: 'Engineering',\n",
    "    1: 'Techno-anthropology',\n",
    "    2: 'Health sciences',\n",
    "    3: 'Social sciences',\n",
    "    4: 'Business'\n",
    "}\n",
    "genders = {\n",
    "    0: 'Female',\n",
    "    1: 'Male',\n",
    "    3: 'Non-biary'\n",
    "}\n",
    "nationalities = {\n",
    "    0: 'National',\n",
    "    1: 'International'\n",
    "}\n",
    "\n",
    "def invert_keys_values(dictionary: dict):\n",
    "    \"\"\"Invert keys and values of dictionary\"\"\"\n",
    "    return {v: k for k, v in dictionary.items()}\n",
    "\n",
    "backgrounds = invert_keys_values(backgrounds)\n",
    "genders = invert_keys_values(genders)\n",
    "nationalities = invert_keys_values(nationalities)"
   ]
  },
  {
   "cell_type": "markdown",
   "id": "f4dd22bf-dce8-4f80-a0d6-040233c865b9",
   "metadata": {},
   "source": [
    "Important variable are:\n",
    "\n",
    "1. dataset\n",
    "2. number of students per group"
   ]
  },
  {
   "cell_type": "code",
   "execution_count": 16,
   "id": "93bce073-9a06-4589-a833-4b7a281881a1",
   "metadata": {},
   "outputs": [],
   "source": [
    "ns = len(dataset) # number of students\n",
    "nsg = 7 # number of students per group"
   ]
  },
  {
   "cell_type": "code",
   "execution_count": 17,
   "id": "99e07330-3e81-4441-b206-3c0660e5afeb",
   "metadata": {},
   "outputs": [
    {
     "name": "stdout",
     "output_type": "stream",
     "text": [
      "That is the real result (floating): 6.666666666666667\n",
      "That is the quotient: 6\n",
      "That is the remainder: 4\n"
     ]
    }
   ],
   "source": [
    "x = 40\n",
    "y = 6\n",
    "\n",
    "res1 = x / y\n",
    "res2 = x // y\n",
    "res3 = x % y\n",
    "\n",
    "print(f'That is the real result (floating): {res1}')\n",
    "print(f'That is the quotient: {res2}')\n",
    "print(f'That is the remainder: {res3}')"
   ]
  },
  {
   "cell_type": "code",
   "execution_count": 18,
   "id": "c24a918b-e375-449c-9206-36dbd80d3347",
   "metadata": {},
   "outputs": [
    {
     "data": {
      "text/plain": [
       "6.666666666666667"
      ]
     },
     "execution_count": 18,
     "metadata": {},
     "output_type": "execute_result"
    }
   ],
   "source": [
    "40 / 6"
   ]
  },
  {
   "cell_type": "code",
   "execution_count": 19,
   "id": "e3fe507f-b07e-432a-9b24-d9d393f818b6",
   "metadata": {},
   "outputs": [
    {
     "data": {
      "text/plain": [
       "6"
      ]
     },
     "execution_count": 19,
     "metadata": {},
     "output_type": "execute_result"
    }
   ],
   "source": [
    "40 // 6"
   ]
  },
  {
   "cell_type": "code",
   "execution_count": 20,
   "id": "a613bd1d-1483-4932-95ec-4f9c8d60c963",
   "metadata": {},
   "outputs": [
    {
     "data": {
      "text/plain": [
       "4"
      ]
     },
     "execution_count": 20,
     "metadata": {},
     "output_type": "execute_result"
    }
   ],
   "source": [
    "40 % 6"
   ]
  },
  {
   "cell_type": "markdown",
   "id": "e9893a14-5811-46e2-8126-34195f0d8a52",
   "metadata": {},
   "source": [
    "6 x 6 = 36\n",
    "\n",
    "40 - 36 = 4"
   ]
  },
  {
   "cell_type": "code",
   "execution_count": 21,
   "id": "6c97db74-579a-4ddf-98f1-9033882f639c",
   "metadata": {},
   "outputs": [
    {
     "name": "stdout",
     "output_type": "stream",
     "text": [
      "The number of groups is: 5\n"
     ]
    }
   ],
   "source": [
    "ng = ns % nsg # number of groups\n",
    "print(f\"The number of groups is: {ng}\")"
   ]
  },
  {
   "cell_type": "code",
   "execution_count": 22,
   "id": "d85070ee-fe86-4dda-8cc4-2578e539f06a",
   "metadata": {},
   "outputs": [],
   "source": [
    "from typing import List, Union, Tuple"
   ]
  },
  {
   "cell_type": "code",
   "execution_count": 40,
   "id": "f88cce25-d69e-43d9-836a-e5ee5f37017a",
   "metadata": {},
   "outputs": [
    {
     "name": "stdout",
     "output_type": "stream",
     "text": [
      "desired_background_ids=[3, 8, 9, 10, 13, 16, 19, 20, 25, 26, 34, 35, 37]\n",
      "group 0 before index=0 desired_background='Techno-anthropology' group=[]\n",
      "group 0 after index=0 desired_background='Techno-anthropology' group=[(3, 1, 1, 1)]\n",
      "group 1 before index=1 desired_background='Techno-anthropology' group=[]\n",
      "group 1 after index=1 desired_background='Techno-anthropology' group=[(8, 1, 1, 0)]\n",
      "group 2 before index=2 desired_background='Techno-anthropology' group=[]\n",
      "group 2 after index=2 desired_background='Techno-anthropology' group=[(9, 1, 1, 2)]\n",
      "group 3 before index=3 desired_background='Techno-anthropology' group=[]\n",
      "group 3 after index=3 desired_background='Techno-anthropology' group=[(10, 1, 1, 1)]\n",
      "group 4 before index=4 desired_background='Techno-anthropology' group=[]\n",
      "group 4 after index=4 desired_background='Techno-anthropology' group=[(13, 1, 1, 0)]\n",
      "group 5 before index=5 desired_background='Techno-anthropology' group=[]\n",
      "group 5 after index=5 desired_background='Techno-anthropology' group=[(16, 1, 1, 2)]\n",
      "group 0 before index=6 desired_background='Techno-anthropology' group=[(3, 1, 1, 1)]\n",
      "group 0 after index=6 desired_background='Techno-anthropology' group=[(3, 1, 1, 1), (19, 1, 0, 2)]\n",
      "group 1 before index=7 desired_background='Techno-anthropology' group=[(8, 1, 1, 0)]\n",
      "group 1 after index=7 desired_background='Techno-anthropology' group=[(8, 1, 1, 0), (20, 1, 0, 0)]\n",
      "group 2 before index=8 desired_background='Techno-anthropology' group=[(9, 1, 1, 2)]\n",
      "group 2 after index=8 desired_background='Techno-anthropology' group=[(9, 1, 1, 2), (25, 1, 1, 0)]\n",
      "group 3 before index=9 desired_background='Techno-anthropology' group=[(10, 1, 1, 1)]\n",
      "group 3 after index=9 desired_background='Techno-anthropology' group=[(10, 1, 1, 1), (26, 1, 0, 0)]\n",
      "group 4 before index=10 desired_background='Techno-anthropology' group=[(13, 1, 1, 0)]\n",
      "group 4 after index=10 desired_background='Techno-anthropology' group=[(13, 1, 1, 0), (34, 1, 1, 1)]\n",
      "group 5 before index=11 desired_background='Techno-anthropology' group=[(16, 1, 1, 2)]\n",
      "group 5 after index=11 desired_background='Techno-anthropology' group=[(16, 1, 1, 2), (35, 1, 1, 0)]\n",
      "group 0 before index=12 desired_background='Techno-anthropology' group=[(3, 1, 1, 1), (19, 1, 0, 2)]\n",
      "group 0 after index=12 desired_background='Techno-anthropology' group=[(3, 1, 1, 1), (19, 1, 0, 2), (37, 1, 0, 0)]\n"
     ]
    }
   ],
   "source": [
    "def round_up(n: Union[float, int]):\n",
    "    \"\"\"Function to round up numbers, also achieved through math.ceil\"\"\"\n",
    "    n1: int = int(n) + (n-int(n) > 0)\n",
    "    return n1\n",
    "\n",
    "\n",
    "def create_empty_groups(ns: int, nsg: int) -> List[list]:\n",
    "    \"\"\"\n",
    "    Function to create an empty number a empty dataset to populate it with the groups.\n",
    "\n",
    "    Args:\n",
    "    --------\n",
    "    ns(int): number of students\n",
    "    nsg(int): number of students per group\n",
    "\n",
    "    Returns:\n",
    "    -------- u\n",
    "    List[list]: list containing empty groups\n",
    "    \"\"\"\n",
    "    ng: int = round_up(ns / nsg) # number of groups, type float\n",
    "    return [list() for group in range(ng)]\n",
    "\n",
    "\n",
    "def fill_background(empty_groups: List[list], dataset: List[Tuple[int]], backgrounds: dict, desired_background: int):\n",
    "    \"\"\"\n",
    "    Function to fill empty groups with the desired background.\n",
    "\n",
    "    Args:\n",
    "    --------\n",
    "    empty_groups (List[list]): list containing empty groups.\n",
    "    dataset (List[Tuple[int]]): dataset of students.\n",
    "        dataset order:\n",
    "            students, student_backgrounds, student_nationalities, student_genders.\n",
    "    backgrounds (dict): background containing keys for professions in the dataset.\n",
    "    desired_background (int): the desired background that should be evenly distributed.\n",
    "    \"\"\"\n",
    "\n",
    "    # get the desired background ids on the dataset\n",
    "\n",
    "    desired_background_id = backgrounds[desired_background]\n",
    "\n",
    "    desired_background_ids: List[int] = [] # list to map the desired background of students\n",
    "    for i, student in enumerate(dataset):\n",
    "        student_background_id: int = student[1]\n",
    "        if student_background_id == desired_background_id:\n",
    "            desired_background_ids.append(i)\n",
    "\n",
    "    print(f\"{desired_background_ids=}\")\n",
    "\n",
    "    # Distribute the desired backgrounds to the empty_groups\n",
    "    for index, desired_background_id in enumerate(desired_background_ids):\n",
    "\n",
    "        group = empty_groups[index % len(empty_groups)]  # Distribute evenly to the empty_groups\n",
    "\n",
    "        print(f\"group {index % len(empty_groups)} before {index=} {desired_background=} {group=}\")\n",
    "\n",
    "        group.append(dataset[desired_background_id])\n",
    "\n",
    "        print(f\"group {index % len(empty_groups)} after {index=} {desired_background=} {group=}\")\n",
    "\n",
    "\n",
    "    # # Distribute other students\n",
    "    # for index, student in enumerate(dataset):\n",
    "    #     if index in desired_background_ids: pass\n",
    "    #     group = empty_groups[index % len(empty_groups)]  # Distribute evenly to the empty_groups\n",
    "    #     group.append(student)\n",
    "\n",
    "    # return empty_groups\n",
    "\n",
    "\n",
    "dataset = create_dataset(ns=40, nb=5, nn=2, ngend=3)\n",
    "\n",
    "empty_groups = create_empty_groups(ns=len(dataset), nsg=7)\n",
    "\n",
    "fill_background(\n",
    "    empty_groups=empty_groups,\n",
    "    dataset=dataset,\n",
    "    backgrounds=backgrounds,\n",
    "    desired_background='Techno-anthropology'\n",
    ")"
   ]
  },
  {
   "cell_type": "code",
   "execution_count": 38,
   "metadata": {},
   "outputs": [
    {
     "data": {
      "text/plain": [
       "[(0, 2, 0, 0),\n",
       " (1, 2, 0, 0),\n",
       " (2, 4, 0, 2),\n",
       " (3, 1, 1, 1),\n",
       " (4, 2, 1, 2),\n",
       " (5, 4, 1, 0),\n",
       " (6, 3, 1, 1),\n",
       " (7, 3, 1, 0),\n",
       " (8, 1, 1, 0),\n",
       " (9, 1, 1, 2),\n",
       " (10, 1, 1, 1),\n",
       " (11, 4, 0, 0),\n",
       " (12, 4, 1, 1),\n",
       " (13, 1, 1, 0),\n",
       " (14, 2, 1, 0),\n",
       " (15, 2, 0, 2),\n",
       " (16, 1, 1, 2),\n",
       " (17, 4, 1, 1),\n",
       " (18, 0, 1, 0),\n",
       " (19, 1, 0, 2),\n",
       " (20, 1, 0, 0),\n",
       " (21, 2, 0, 1),\n",
       " (22, 4, 1, 1),\n",
       " (23, 3, 1, 0),\n",
       " (24, 0, 1, 0),\n",
       " (25, 1, 1, 0),\n",
       " (26, 1, 0, 0),\n",
       " (27, 4, 0, 2),\n",
       " (28, 3, 1, 1),\n",
       " (29, 2, 1, 0),\n",
       " (30, 4, 1, 0),\n",
       " (31, 0, 0, 1),\n",
       " (32, 3, 0, 2),\n",
       " (33, 2, 1, 1),\n",
       " (34, 1, 1, 1),\n",
       " (35, 1, 1, 0),\n",
       " (36, 3, 0, 1),\n",
       " (37, 1, 0, 0),\n",
       " (38, 3, 1, 2),\n",
       " (39, 2, 1, 2)]"
      ]
     },
     "execution_count": 38,
     "metadata": {},
     "output_type": "execute_result"
    }
   ],
   "source": [
    "dataset"
   ]
  }
 ],
 "metadata": {
  "kernelspec": {
   "display_name": "Python 3 (ipykernel)",
   "language": "python",
   "name": "python3"
  },
  "language_info": {
   "codemirror_mode": {
    "name": "ipython",
    "version": 3
   },
   "file_extension": ".py",
   "mimetype": "text/x-python",
   "name": "python",
   "nbconvert_exporter": "python",
   "pygments_lexer": "ipython3",
   "version": "3.10.0"
  }
 },
 "nbformat": 4,
 "nbformat_minor": 5
}
